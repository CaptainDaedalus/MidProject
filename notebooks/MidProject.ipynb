{
 "cells": [
  {
   "cell_type": "markdown",
   "metadata": {},
   "source": [
    "# Dataset Information"
   ]
  },
  {
   "cell_type": "markdown",
   "metadata": {},
   "source": [
    "The dataset contains information on bookings for two hotels in Portugal (a resort and a city hotel) scheduled to arrive in a period between July 1, 2015 and August 31, 2017.\n",
    "\n",
    "For both hotels, the same information was collected: 31 variables describing 40,060 observations for the resort and 79,330 observations for the city hotel. That is, the dataset contains information on 119,390 hotel reservations, including those that were canceled. This is real information, so all elements that could identify hotels or customers were removed.\n",
    "\n",
    "Here there are some question axamples for analysis:\n",
    "\n",
    "- What is the month with the most guest arrivals?\n",
    "- How long do guests tend to stay at the hotel?\n",
    "- How many reservations were made by repeated guests?\n",
    "- What is the Average Daily Rate (ADR) throughout the year?\n",
    "- How many reservations were cancelled out of total?\n",
    "- What is the most frequent deposit type for cancelled reservations?\n",
    "- Which countries do customers come from?\n",
    "- What types of customers are most common in each hotel?\n",
    "- What is their preferred meal plan?\n",
    "- Which hotel is preferred by adults with children?\n",
    "- What is the strongest market segment and distribution channel?"
   ]
  },
  {
   "cell_type": "code",
   "execution_count": null,
   "metadata": {},
   "outputs": [],
   "source": [
    "# Suppressing Warnings\n",
    "\n",
    "import warnings\n",
    "warnings.filterwarnings('ignore')"
   ]
  },
  {
   "cell_type": "code",
   "execution_count": null,
   "metadata": {
    "id": "wYBkb68JBssi"
   },
   "outputs": [],
   "source": [
    "import pandas as pd\n",
    "import numpy as np \n",
    "from pandas_profiling import ProfileReport\n",
    "import matplotlib.pyplot as plt\n",
    "import seaborn as sns"
   ]
  },
  {
   "cell_type": "code",
   "execution_count": null,
   "metadata": {
    "colab": {
     "base_uri": "https://localhost:8080/",
     "height": 250
    },
    "executionInfo": {
     "elapsed": 829,
     "status": "ok",
     "timestamp": 1646558031142,
     "user": {
      "displayName": "Ignacio Soteras",
      "photoUrl": "https://lh3.googleusercontent.com/a/default-user=s64",
      "userId": "02050793736257155229"
     },
     "user_tz": -60
    },
    "id": "bAUPjE2LB14_",
    "outputId": "df01dcdf-900f-4c9d-dd3d-51bba50e5ff0",
    "scrolled": true
   },
   "outputs": [],
   "source": [
    "data = pd.read_csv('hotel_bookings.csv')\n",
    "df1 = data.copy()\n",
    "display(df1.head(10))\n",
    "display(df1.shape)"
   ]
  },
  {
   "cell_type": "markdown",
   "metadata": {},
   "source": [
    "# Data Cleaning"
   ]
  },
  {
   "cell_type": "markdown",
   "metadata": {},
   "source": [
    "Duplicated Data"
   ]
  },
  {
   "cell_type": "code",
   "execution_count": null,
   "metadata": {},
   "outputs": [],
   "source": [
    "#I will now check for duplicate rows and, if so, delete them.\n",
    "# Counting duplicate data in dataframe\n",
    "\n",
    "df1.duplicated().sum()"
   ]
  },
  {
   "cell_type": "code",
   "execution_count": null,
   "metadata": {
    "scrolled": false
   },
   "outputs": [],
   "source": [
    "df2 = df1.drop_duplicates(keep=False) #removing all duplicate rows"
   ]
  },
  {
   "cell_type": "markdown",
   "metadata": {},
   "source": [
    "Missing values"
   ]
  },
  {
   "cell_type": "code",
   "execution_count": null,
   "metadata": {},
   "outputs": [],
   "source": [
    "#Number of missing values by column\n",
    "\n",
    "df2.isnull().sum().sort_values(ascending = False)"
   ]
  },
  {
   "cell_type": "markdown",
   "metadata": {},
   "source": [
    "Checking type of data to better understand how to proceed with cleaning the data and replacing the missing values"
   ]
  },
  {
   "cell_type": "code",
   "execution_count": null,
   "metadata": {
    "scrolled": true
   },
   "outputs": [],
   "source": [
    "df2.dtypes #checking type of data"
   ]
  },
  {
   "cell_type": "markdown",
   "metadata": {},
   "source": [
    "For the missing values of 'company' and 'agent' (both are dtype float64) I will use the KNN method to estimate the value of the missing data points.\n",
    "\n",
    "First I will split the dataframe into numerical and categorical. Once I consider each to be cleaned, I will re-join them into one dataframe."
   ]
  },
  {
   "cell_type": "code",
   "execution_count": null,
   "metadata": {},
   "outputs": [],
   "source": [
    "numericals = df2.select_dtypes(np.number) #selecting only the numerical columns for cleaning\n",
    "#numericals"
   ]
  },
  {
   "cell_type": "code",
   "execution_count": null,
   "metadata": {},
   "outputs": [],
   "source": [
    "#Using KNN method to fill in for the missing values\n",
    "from sklearn.impute import KNNImputer\n",
    "\n",
    "\n",
    "imputer = KNNImputer(n_neighbors=3) # n_neighbors is how many most similar values we want to consider\n",
    "\n",
    "#X_agent = numericals.drop(['adr'],axis=1) # We drop adr because it's the y\n",
    "X_agent_imputed_np = imputer.fit_transform(numericals)\n",
    "df_numerical = pd.DataFrame(X_agent_imputed_np, columns=numericals.columns, index=numericals.index)\n",
    "df_numerical.dtypes\n",
    "\n",
    "#all columns changed into floats"
   ]
  },
  {
   "cell_type": "code",
   "execution_count": null,
   "metadata": {
    "scrolled": true
   },
   "outputs": [],
   "source": [
    "df_numerical.isnull().sum() #checking to see if all numerical columns have no missing values. Looks like a success."
   ]
  },
  {
   "cell_type": "code",
   "execution_count": null,
   "metadata": {
    "scrolled": true
   },
   "outputs": [],
   "source": [
    "#now I want to fill in the missing values in the categorical column of 'country'. \n",
    "#I will join the numerical and categorical dataframes into a new after this\n",
    "categorical = df2.select_dtypes(include='object')\n",
    "\n",
    "#here I am replacing the NaN for country (categorical) with the mode of the column\n",
    "categorical['country'] = categorical['country'].fillna(categorical['country'].mode()[0])\n",
    "categorical.isnull().sum()\n",
    "\n",
    "#categorical columns have no missing values"
   ]
  },
  {
   "cell_type": "markdown",
   "metadata": {},
   "source": [
    "Now I want to reunite the numerical with the categorial into a new dataframe with no missing values"
   ]
  },
  {
   "cell_type": "code",
   "execution_count": null,
   "metadata": {
    "scrolled": true
   },
   "outputs": [],
   "source": [
    "#concatinating the categorical withe numerical dataframes\n",
    "df_clean = pd.concat([df_numerical, categorical], axis=1)\n",
    "\n",
    "display(df_clean.head())\n",
    "df_clean.isnull().sum().sum()\n"
   ]
  },
  {
   "cell_type": "code",
   "execution_count": null,
   "metadata": {},
   "outputs": [],
   "source": [
    "#checking to see if I've lost any columns in the process\n",
    "df_clean.shape\n",
    "\n",
    "#still 32 columns, but less rows"
   ]
  },
  {
   "cell_type": "markdown",
   "metadata": {},
   "source": [
    "Now that I have a cleaner dataframe to work with (df_clean), I will continue 'fixing' the columns to my liking, like creating new and more usable ones."
   ]
  },
  {
   "cell_type": "code",
   "execution_count": null,
   "metadata": {},
   "outputs": [],
   "source": [
    "# Combining children and babies together as 'kids'\n",
    "\n",
    "df_clean['kids'] = df_clean['children'] + df_clean['babies']"
   ]
  },
  {
   "cell_type": "code",
   "execution_count": null,
   "metadata": {},
   "outputs": [],
   "source": [
    "# Creating total_members column\n",
    "\n",
    "df_clean['total_members'] = df_clean['kids'] + df_clean['adults']"
   ]
  },
  {
   "cell_type": "code",
   "execution_count": null,
   "metadata": {},
   "outputs": [],
   "source": [
    "# Creating column for total nights spent at hotel\n",
    "df_clean['total_nights'] = df_clean['stays_in_weekend_nights'] + df_clean['stays_in_week_nights']"
   ]
  },
  {
   "cell_type": "code",
   "execution_count": null,
   "metadata": {},
   "outputs": [],
   "source": [
    "df_clean.dtypes"
   ]
  },
  {
   "cell_type": "code",
   "execution_count": null,
   "metadata": {},
   "outputs": [],
   "source": [
    "df_clean"
   ]
  },
  {
   "cell_type": "markdown",
   "metadata": {},
   "source": [
    "Using the cleaned dataframe, I will generate the profile reports from a pandas DataFrame. pandas-profiling extends pandas DataFrame with df.profile_report(), which will generate a standardized univariate and multivariate report for data understanding."
   ]
  },
  {
   "cell_type": "code",
   "execution_count": null,
   "metadata": {},
   "outputs": [],
   "source": [
    "profile_all = ProfileReport(df_clean, title='Pandas Profiling Report')"
   ]
  },
  {
   "cell_type": "code",
   "execution_count": null,
   "metadata": {
    "scrolled": false
   },
   "outputs": [],
   "source": [
    "profile_all"
   ]
  },
  {
   "cell_type": "markdown",
   "metadata": {},
   "source": [
    "The column 'adults' has a maximum of 55 and a minimum of 0 people. The minimum is especially interesting because it would assume that there are hotel reservations for 0 adults, which is not possible since there must be a minimum of 1 adult per reservation (obviously children cannot book hotel rooms). Therefore, I will eliminate rows where the number of adults equals 0 in the cell below."
   ]
  },
  {
   "cell_type": "code",
   "execution_count": null,
   "metadata": {},
   "outputs": [],
   "source": [
    "#Dropping rows with 0 adults\n",
    "\n",
    "df_clean.drop(df_clean[df_clean['adults'] == 0].index, inplace = True)"
   ]
  },
  {
   "cell_type": "code",
   "execution_count": null,
   "metadata": {},
   "outputs": [],
   "source": [
    "df_clean.to_csv('MidProject_Clean1.csv', index=False)"
   ]
  },
  {
   "cell_type": "markdown",
   "metadata": {},
   "source": [
    "# Visuals Will Be On Tableau"
   ]
  }
 ],
 "metadata": {
  "colab": {
   "name": "L. 4.05.ipynb",
   "provenance": []
  },
  "kernelspec": {
   "display_name": "Python 3 (ipykernel)",
   "language": "python",
   "name": "python3"
  },
  "language_info": {
   "codemirror_mode": {
    "name": "ipython",
    "version": 3
   },
   "file_extension": ".py",
   "mimetype": "text/x-python",
   "name": "python",
   "nbconvert_exporter": "python",
   "pygments_lexer": "ipython3",
   "version": "3.9.12"
  }
 },
 "nbformat": 4,
 "nbformat_minor": 1
}
